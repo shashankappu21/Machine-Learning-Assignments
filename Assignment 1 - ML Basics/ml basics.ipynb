{
 "cells": [
  {
   "cell_type": "markdown",
   "metadata": {
    "id": "4ryb3mAvclpk"
   },
   "source": [
    "###Importing libraries"
   ]
  },
  {
   "cell_type": "code",
   "execution_count": 6,
   "metadata": {
    "id": "xotBu8YycC7p"
   },
   "outputs": [],
   "source": [
    "import numpy as np\n",
    "import pandas as pd\n",
    "import matplotlib.pyplot as plt"
   ]
  },
  {
   "cell_type": "markdown",
   "metadata": {
    "id": "3zYdD39Jcr54"
   },
   "source": [
    "###Reading the dataset, printing the head and number of rows present"
   ]
  },
  {
   "cell_type": "code",
   "execution_count": 7,
   "metadata": {
    "colab": {
     "base_uri": "https://localhost:8080/"
    },
    "id": "l9mRxZPjchuA",
    "outputId": "8e4e9521-c7e8-491c-e2d4-ca0a67d5edb2"
   },
   "outputs": [
    {
     "name": "stdout",
     "output_type": "stream",
     "text": [
      "<bound method NDFrame.head of      YEAR  Rainfall in June\n",
      "0    1901              22.7\n",
      "1    1902              59.9\n",
      "2    1903              26.2\n",
      "3    1904              53.4\n",
      "4    1905              23.1\n",
      "..    ...               ...\n",
      "112  2011             119.5\n",
      "113  2012              21.7\n",
      "114  2013             155.0\n",
      "115  2014              31.3\n",
      "116  2015              90.6\n",
      "\n",
      "[117 rows x 2 columns]>\n",
      "The number of rows are: 117\n"
     ]
    }
   ],
   "source": [
    "df = pd.read_csv(\"Book1.csv\")\n",
    "print(df.head)\n",
    "print(f\"The number of rows are: {df.shape[0]}\")"
   ]
  },
  {
   "cell_type": "markdown",
   "metadata": {
    "id": "_nDIp--geR2Y"
   },
   "source": [
    "###Printing out descriptive statistics"
   ]
  },
  {
   "cell_type": "code",
   "execution_count": 8,
   "metadata": {
    "colab": {
     "base_uri": "https://localhost:8080/"
    },
    "id": "Yd2yhYXtdHC2",
    "outputId": "a7a18491-5d1a-4b5b-e583-8c04dfa01397"
   },
   "outputs": [
    {
     "name": "stdout",
     "output_type": "stream",
     "text": [
      "Descriptive Statistics for Rainfall in June:\n",
      "count    113.000000\n",
      "mean      72.957522\n",
      "std       35.968989\n",
      "min       17.700000\n",
      "25%       48.500000\n",
      "50%       69.900000\n",
      "75%       90.600000\n",
      "max      161.000000\n",
      "Name: Rainfall in June, dtype: float64\n"
     ]
    }
   ],
   "source": [
    "column_name = 'Rainfall in June'\n",
    "\n",
    "# Use the describe method on the specific column\n",
    "column_stats = df[column_name].describe()\n",
    "\n",
    "# Display the descriptive statistics for the specified column\n",
    "print(f\"Descriptive Statistics for {column_name}:\")\n",
    "print(column_stats)"
   ]
  },
  {
   "cell_type": "markdown",
   "metadata": {
    "id": "3lGFZGzjhKvi"
   },
   "source": [
    "###Replacing the empty values with the median"
   ]
  },
  {
   "cell_type": "code",
   "execution_count": 9,
   "metadata": {
    "colab": {
     "base_uri": "https://localhost:8080/"
    },
    "id": "CjSIUxROeq5k",
    "outputId": "4dab45e9-c092-4c20-93db-357dbe55dfa0"
   },
   "outputs": [
    {
     "name": "stdout",
     "output_type": "stream",
     "text": [
      "     YEAR  Rainfall in June\n",
      "0    1901              22.7\n",
      "1    1902              59.9\n",
      "2    1903              26.2\n",
      "3    1904              53.4\n",
      "4    1905              23.1\n",
      "..    ...               ...\n",
      "112  2011             119.5\n",
      "113  2012              21.7\n",
      "114  2013             155.0\n",
      "115  2014              31.3\n",
      "116  2015              90.6\n",
      "\n",
      "[117 rows x 2 columns]\n"
     ]
    },
    {
     "data": {
      "text/plain": [
       "69.9"
      ]
     },
     "execution_count": 9,
     "metadata": {},
     "output_type": "execute_result"
    }
   ],
   "source": [
    "median_rainfall = df['Rainfall in June'].median()\n",
    "df['Rainfall in June'].fillna(median_rainfall, inplace=True)\n",
    "print(df)\n",
    "median_rainfall"
   ]
  },
  {
   "cell_type": "code",
   "execution_count": 10,
   "metadata": {
    "colab": {
     "base_uri": "https://localhost:8080/"
    },
    "id": "vawzl86Ffb9K",
    "outputId": "69d063c9-658f-40ef-9561-bfdadb2c5573"
   },
   "outputs": [
    {
     "data": {
      "text/plain": [
       "69.9"
      ]
     },
     "execution_count": 10,
     "metadata": {},
     "output_type": "execute_result"
    }
   ],
   "source": [
    "#Checking if the rows have really been updated\n",
    "df['Rainfall in June'][103]"
   ]
  },
  {
   "cell_type": "markdown",
   "metadata": {
    "id": "rQm16EZBh-3m"
   },
   "source": [
    "###Removing all the duplicates"
   ]
  },
  {
   "cell_type": "code",
   "execution_count": 11,
   "metadata": {
    "colab": {
     "base_uri": "https://localhost:8080/",
     "height": 423
    },
    "id": "YEhgd9tFgQ48",
    "outputId": "30f7ff33-37c4-4b85-9149-10896cf2935b"
   },
   "outputs": [
    {
     "data": {
      "text/html": [
       "<div>\n",
       "<style scoped>\n",
       "    .dataframe tbody tr th:only-of-type {\n",
       "        vertical-align: middle;\n",
       "    }\n",
       "\n",
       "    .dataframe tbody tr th {\n",
       "        vertical-align: top;\n",
       "    }\n",
       "\n",
       "    .dataframe thead th {\n",
       "        text-align: right;\n",
       "    }\n",
       "</style>\n",
       "<table border=\"1\" class=\"dataframe\">\n",
       "  <thead>\n",
       "    <tr style=\"text-align: right;\">\n",
       "      <th></th>\n",
       "      <th>YEAR</th>\n",
       "      <th>Rainfall in June</th>\n",
       "    </tr>\n",
       "  </thead>\n",
       "  <tbody>\n",
       "    <tr>\n",
       "      <th>0</th>\n",
       "      <td>1901</td>\n",
       "      <td>22.7</td>\n",
       "    </tr>\n",
       "    <tr>\n",
       "      <th>1</th>\n",
       "      <td>1902</td>\n",
       "      <td>59.9</td>\n",
       "    </tr>\n",
       "    <tr>\n",
       "      <th>2</th>\n",
       "      <td>1903</td>\n",
       "      <td>26.2</td>\n",
       "    </tr>\n",
       "    <tr>\n",
       "      <th>3</th>\n",
       "      <td>1904</td>\n",
       "      <td>53.4</td>\n",
       "    </tr>\n",
       "    <tr>\n",
       "      <th>4</th>\n",
       "      <td>1905</td>\n",
       "      <td>23.1</td>\n",
       "    </tr>\n",
       "    <tr>\n",
       "      <th>...</th>\n",
       "      <td>...</td>\n",
       "      <td>...</td>\n",
       "    </tr>\n",
       "    <tr>\n",
       "      <th>112</th>\n",
       "      <td>2011</td>\n",
       "      <td>119.5</td>\n",
       "    </tr>\n",
       "    <tr>\n",
       "      <th>113</th>\n",
       "      <td>2012</td>\n",
       "      <td>21.7</td>\n",
       "    </tr>\n",
       "    <tr>\n",
       "      <th>114</th>\n",
       "      <td>2013</td>\n",
       "      <td>155.0</td>\n",
       "    </tr>\n",
       "    <tr>\n",
       "      <th>115</th>\n",
       "      <td>2014</td>\n",
       "      <td>31.3</td>\n",
       "    </tr>\n",
       "    <tr>\n",
       "      <th>116</th>\n",
       "      <td>2015</td>\n",
       "      <td>90.6</td>\n",
       "    </tr>\n",
       "  </tbody>\n",
       "</table>\n",
       "<p>115 rows × 2 columns</p>\n",
       "</div>"
      ],
      "text/plain": [
       "     YEAR  Rainfall in June\n",
       "0    1901              22.7\n",
       "1    1902              59.9\n",
       "2    1903              26.2\n",
       "3    1904              53.4\n",
       "4    1905              23.1\n",
       "..    ...               ...\n",
       "112  2011             119.5\n",
       "113  2012              21.7\n",
       "114  2013             155.0\n",
       "115  2014              31.3\n",
       "116  2015              90.6\n",
       "\n",
       "[115 rows x 2 columns]"
      ]
     },
     "execution_count": 11,
     "metadata": {},
     "output_type": "execute_result"
    }
   ],
   "source": [
    "df.drop_duplicates(inplace=True)\n",
    "df"
   ]
  },
  {
   "cell_type": "markdown",
   "metadata": {
    "id": "-pDgrj1ckyyR"
   },
   "source": [
    "###Plotting the histogram and telling whether right or left skewed"
   ]
  },
  {
   "cell_type": "code",
   "execution_count": 12,
   "metadata": {
    "colab": {
     "base_uri": "https://localhost:8080/",
     "height": 616
    },
    "id": "8uEUU5QDhdP1",
    "outputId": "ab16b9e6-357b-4ee0-f29c-00ff0e364f89"
   },
   "outputs": [
    {
     "data": {
      "image/png": "[encoded data removed]",
      "text/plain": [
       "<Figure size 1200x600 with 1 Axes>"
      ]
     },
     "metadata": {},
     "output_type": "display_data"
    },
    {
     "name": "stdout",
     "output_type": "stream",
     "text": [
      "Mean: 72.21652173913043\n",
      "Median: 69.9\n",
      "The distribution is skewed to the right.\n"
     ]
    }
   ],
   "source": [
    "# Plot a bar plot for the 'Rainfall in June' column against 'YEAR'\n",
    "plt.figure(figsize=(12, 6))\n",
    "plt.bar(df['YEAR'], df['Rainfall in June'], color='skyblue', edgecolor='black')\n",
    "plt.title('Rainfall in June for Each Year')\n",
    "plt.xlabel('Year')\n",
    "plt.ylabel('Rainfall in June')\n",
    "plt.grid(axis='y', alpha=0.75)\n",
    "\n",
    "# Display the bar plot\n",
    "plt.show()\n",
    "\n",
    "# Compare the Mean with Median\n",
    "mean_value = df['Rainfall in June'].mean()\n",
    "median_value = df['Rainfall in June'].median()\n",
    "\n",
    "print(f\"Mean: {mean_value}\")\n",
    "print(f\"Median: {median_value}\")\n",
    "\n",
    "# Determine skewness based on the comparison of mean and median\n",
    "if mean_value > median_value:\n",
    "    print(\"The distribution is skewed to the right.\")\n",
    "elif mean_value < median_value:\n",
    "    print(\"The distribution is skewed to the left.\")\n",
    "else:\n",
    "    print(\"The distribution is symmetric.\")"
   ]
  },
  {
   "cell_type": "code",
   "execution_count": 13,
   "metadata": {
    "id": "gJnD9-j4jXBK"
   },
   "outputs": [],
   "source": [
    "from sklearn.preprocessing import StandardScaler, MinMaxScaler"
   ]
  },
  {
   "cell_type": "code",
   "execution_count": 14,
   "metadata": {
    "colab": {
     "base_uri": "https://localhost:8080/"
    },
    "id": "6evBE8LTlL_x",
    "outputId": "00d0e4ba-c9e3-466a-8a8e-954f38b7fdf6"
   },
   "outputs": [
    {
     "name": "stdout",
     "output_type": "stream",
     "text": [
      "Standard Scaling Range:\n",
      "Min: -1.5610970386628225\n",
      "Max: 2.5423416713642912\n",
      "\n",
      "Min-Max Scaling Range:\n",
      "Min: 0.0\n",
      "Max: 0.9999999999999999\n"
     ]
    }
   ],
   "source": [
    "rainfall_data = df[['Rainfall in June']]\n",
    "scaler_standard = StandardScaler()\n",
    "rainfall_standard_scaled = scaler_standard.fit_transform(rainfall_data)\n",
    "\n",
    "# Min-Max Scaling using MinMaxScaler\n",
    "scaler_minmax = MinMaxScaler()\n",
    "rainfall_minmax_scaled = scaler_minmax.fit_transform(rainfall_data)\n",
    "\n",
    "# Display the differences in range\n",
    "print(\"Standard Scaling Range:\")\n",
    "print(f\"Min: {rainfall_standard_scaled.min()}\")\n",
    "print(f\"Max: {rainfall_standard_scaled.max()}\\n\")\n",
    "\n",
    "print(\"Min-Max Scaling Range:\")\n",
    "print(f\"Min: {rainfall_minmax_scaled.min()}\")\n",
    "print(f\"Max: {rainfall_minmax_scaled.max()}\")"
   ]
  },
  {
   "cell_type": "code",
   "execution_count": 17,
   "metadata": {
    "id": "jtcSqvEUlaxh"
   },
   "outputs": [],
   "source": [
    "from sklearn.model_selection import train_test_split\n",
    "from sklearn.linear_model import LinearRegression\n",
    "from sklearn import metrics"
   ]
  },
  {
   "cell_type": "code",
   "execution_count": 18,
   "metadata": {
    "colab": {
     "base_uri": "https://localhost:8080/"
    },
    "id": "hi37qhIBlywc",
    "outputId": "cbd9f71d-ba21-4879-e79e-d0d67903c92a"
   },
   "outputs": [
    {
     "name": "stdout",
     "output_type": "stream",
     "text": [
      "Mean Absolute Error (MAE) of the test data: 32.104436059010254\n",
      "Mean Squared Error (MSE) of the test data: 1565.2372526417516\n",
      "Root Mean Squared Error (RMSE) of the test data: 39.56307941303042\n"
     ]
    }
   ],
   "source": [
    "X = df[['YEAR']]\n",
    "y = df['Rainfall in June']\n",
    "\n",
    "# Split the data into training and testing sets (80-20 rule)\n",
    "x_train, x_test, y_train, y_test = train_test_split(X, y, test_size=0.2, random_state=42)\n",
    "\n",
    "# Build the Linear Regression model\n",
    "model = LinearRegression().fit(x_train, y_train)\n",
    "\n",
    "# Predict on the test set\n",
    "y_pred = model.predict(x_test)\n",
    "\n",
    "# Evaluate the model\n",
    "mae = metrics.mean_absolute_error(y_test, y_pred)\n",
    "mse = metrics.mean_squared_error(y_test, y_pred)\n",
    "rmse = metrics.mean_squared_error(y_test, y_pred, squared=False)  # RMSE is the square root of MSE\n",
    "\n",
    "# Report the evaluation metrics\n",
    "print(f\"Mean Absolute Error (MAE) of the test data: {mae}\")\n",
    "print(f\"Mean Squared Error (MSE) of the test data: {mse}\")\n",
    "print(f\"Root Mean Squared Error (RMSE) of the test data: {rmse}\")"
   ]
  },
  {
   "cell_type": "code",
   "execution_count": 54,
   "metadata": {
    "colab": {
     "base_uri": "https://localhost:8080/",
     "height": 564
    },
    "id": "MCHEJI5Tl6Nh",
    "outputId": "679a57e2-8431-442e-d867-aa2dbd181f2f"
   },
   "outputs": [
    {
     "data": {
      "image/png": "[encoded data removed]",
      "text/plain": [
       "<Figure size 1200x600 with 1 Axes>"
      ]
     },
     "metadata": {},
     "output_type": "display_data"
    }
   ],
   "source": [
    "# Predict on both training and test sets\n",
    "y_pred_train = model.predict(x_train)\n",
    "y_pred_test = model.predict(x_test)\n",
    "\n",
    "plt.figure(figsize=(12, 6))\n",
    "\n",
    "# Scatter plot for training data\n",
    "plt.scatter(x_train, y_train, color='blue', label='Training Data')\n",
    "\n",
    "# Scatter plot for test data\n",
    "plt.scatter(x_test, y_test, color='green', label='Testing Data')\n",
    "\n",
    "# Regression line for test data\n",
    "plt.plot(x_test, y_pred_test, color='orange', linewidth=2, label='Testing Regression Line')\n",
    "\n",
    "plt.title('Linear Regression - Training and Testing Data')\n",
    "plt.xlabel('Year')\n",
    "plt.ylabel('Rainfall in June')\n",
    "plt.legend()\n",
    "plt.show()"
   ]
  },
  {
   "cell_type": "code",
   "execution_count": 19,
   "metadata": {
    "colab": {
     "base_uri": "https://localhost:8080/"
    },
    "id": "bxSjWgTGmXEr",
    "outputId": "44c4078c-dbe8-46d5-f22a-8f3cdc974ec3"
   },
   "outputs": [
    {
     "name": "stdout",
     "output_type": "stream",
     "text": [
      "With 80-20 split:\n",
      "Mean Absolute Error (MAE) of the test data: 32.104436059010254\n",
      "Mean Squared Error (MSE) of the test data: 1565.2372526417516\n",
      "Root Mean Squared Error (RMSE) of the test data: 39.56307941303042\n",
      "\n",
      "With 70-30 split:\n",
      "Mean Absolute Error (MAE) of the test data: 32.20619655694001\n",
      "Mean Squared Error (MSE) of the test data: 1485.296189643908\n",
      "Root Mean Squared Error (RMSE) of the test data: 38.53954059980357\n"
     ]
    }
   ],
   "source": [
    "print(\"With 80-20 split:\")\n",
    "print(f\"Mean Absolute Error (MAE) of the test data: {mae}\")\n",
    "print(f\"Mean Squared Error (MSE) of the test data: {mse}\")\n",
    "print(f\"Root Mean Squared Error (RMSE) of the test data: {rmse}\")\n",
    "# Split the data into training and testing sets (70-30 rule)\n",
    "x_train, x_test, y_train, y_test = train_test_split(X, y, test_size=0.3, random_state=42)\n",
    "\n",
    "# Build the Linear Regression model\n",
    "model = LinearRegression().fit(x_train, y_train)\n",
    "\n",
    "# Predict on the test set\n",
    "y_pred = model.predict(x_test)\n",
    "\n",
    "# Evaluate the model\n",
    "mae = metrics.mean_absolute_error(y_test, y_pred)\n",
    "mse = metrics.mean_squared_error(y_test, y_pred)\n",
    "rmse = metrics.mean_squared_error(y_test, y_pred, squared=False)  # RMSE is the square root of MSE\n",
    "\n",
    "# Report the evaluation metrics\n",
    "print(\"\\nWith 70-30 split:\")\n",
    "print(f\"Mean Absolute Error (MAE) of the test data: {mae}\")\n",
    "print(f\"Mean Squared Error (MSE) of the test data: {mse}\")\n",
    "print(f\"Root Mean Squared Error (RMSE) of the test data: {rmse}\")"
   ]
  },
  {
   "cell_type": "code",
   "execution_count": null,
   "metadata": {},
   "outputs": [],
   "source": []
  }
 ],
 "metadata": {
  "colab": {
   "provenance": []
  },
  "kernelspec": {
   "display_name": "Python 3 (ipykernel)",
   "language": "python",
   "name": "python3"
  },
  "language_info": {
   "codemirror_mode": {
    "name": "ipython",
    "version": 3
   },
   "file_extension": ".py",
   "mimetype": "text/x-python",
   "name": "python",
   "nbconvert_exporter": "python",
   "pygments_lexer": "ipython3",
   "version": "3.11.4"
  }
 },
 "nbformat": 4,
 "nbformat_minor": 1
}
